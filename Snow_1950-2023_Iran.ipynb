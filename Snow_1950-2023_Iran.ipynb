{
 "cells": [
  {
   "cell_type": "code",
   "execution_count": null,
   "metadata": {},
   "outputs": [],
   "source": [
    "import xarray as xr\n",
    "import pandas as pd\n",
    "import pandas as gpd\n",
    "import regionmask\n",
    "import numpy as np\n",
    "import geopandas\n",
    "import xarray as xr\n",
    "import xarray as xr\n",
    "import seaborn as sns\n",
    "import rioxarray\n",
    "from shapely.geometry import mapping\n",
    "import netCDF4\n",
    "import netCDF4 as nc\n",
    "from PIL import Image\n",
    "import os\n",
    "from netCDF4 import Dataset\n",
    "import geopandas as gpd\n",
    "import numpy as np\n",
    "from mpl_toolkits.basemap import Basemap\n",
    "import matplotlib.pyplot as plt\n",
    "import matplotlib.pyplot as plt\n",
    "from scipy.stats import linregress\n",
    "#from xarrayMannKendall import MannKendall\n",
    "import pymannkendall as mk\n",
    "import xarray as xr\n",
    "import numpy as np\n",
    "from scipy.stats import kendalltau"
   ]
  },
  {
   "cell_type": "code",
   "execution_count": null,
   "metadata": {},
   "outputs": [],
   "source": []
  }
 ],
 "metadata": {
  "language_info": {
   "name": "python"
  }
 },
 "nbformat": 4,
 "nbformat_minor": 2
}
