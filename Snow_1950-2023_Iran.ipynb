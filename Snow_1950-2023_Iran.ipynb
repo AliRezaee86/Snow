{
 "cells": [
  {
   "cell_type": "code",
   "execution_count": 1,
   "metadata": {},
   "outputs": [],
   "source": [
    "import xarray as xr\n",
    "import pandas as pd\n",
    "import pandas as gpd\n",
    "import regionmask\n",
    "import numpy as np\n",
    "import geopandas\n",
    "import xarray as xr\n",
    "import xarray as xr\n",
    "import seaborn as sns\n",
    "import rioxarray\n",
    "from shapely.geometry import mapping\n",
    "import netCDF4\n",
    "import netCDF4 as nc\n",
    "from PIL import Image\n",
    "import os\n",
    "from netCDF4 import Dataset\n",
    "import geopandas as gpd\n",
    "import numpy as np\n",
    "from mpl_toolkits.basemap import Basemap\n",
    "import matplotlib.pyplot as plt\n",
    "import matplotlib.pyplot as plt\n",
    "from scipy.stats import linregress\n",
    "#from xarrayMannKendall import MannKendall\n",
    "import pymannkendall as mk\n",
    "import xarray as xr\n",
    "import numpy as np\n",
    "from scipy.stats import kendalltau"
   ]
  },
  {
   "cell_type": "code",
   "execution_count": null,
   "metadata": {},
   "outputs": [],
   "source": [
    "#Variables names\n",
    "# asn:Snow albedo ((0 - 1)), snowc: snow cover (%), \n",
    "#rsn:Snow density (kg m**-3), sde:Snow depth (m), sd:Snow depth (m of water equivalent),\n",
    "#sf:Snowfall (m of water equivalent), smlt: Snowmelt (m of water equivalent), tsn:Temperature of snow layer (K)\n",
    "\n",
    "#-------------------------------------------------------------------------------------------------------------#\n",
    "\n",
    "data_Snow = xr.open_dataset(\"G:\\Snow-Analyze-in-Iran\\snow_iran-mon-1950-2023.nc\")\n",
    "snow_cover= data_Snow['snowc']\n",
    "Snow_albedo = data_Snow['asn']\n",
    "Snow_density = data_Snow['rsn']\n",
    "Snow_depth = data_Snow['sde']\n",
    "Snow_depth_water = data_Snow['sd']\n",
    "Snow_snowfall = data_Snow['sf']\n",
    "Snow_snowmelt = data_Snow['smlt']\n",
    "Snow_Temperature = data_Snow['tsn']\n"
   ]
  }
 ],
 "metadata": {
  "kernelspec": {
   "display_name": "Python 3",
   "language": "python",
   "name": "python3"
  },
  "language_info": {
   "codemirror_mode": {
    "name": "ipython",
    "version": 3
   },
   "file_extension": ".py",
   "mimetype": "text/x-python",
   "name": "python",
   "nbconvert_exporter": "python",
   "pygments_lexer": "ipython3",
   "version": "3.11.8"
  }
 },
 "nbformat": 4,
 "nbformat_minor": 2
}
